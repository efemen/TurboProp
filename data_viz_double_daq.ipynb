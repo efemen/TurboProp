{
 "cells": [
  {
   "cell_type": "code",
   "execution_count": 103,
   "metadata": {},
   "outputs": [],
   "source": [
    "import numpy as np\n",
    "from scipy import signal, io\n",
    "import matplotlib.pyplot as plt\n",
    "from acquisition_tools import cal_matrix, estimate_rpm\n",
    "from tkinter import Tk\n",
    "from tkinter.filedialog import askopenfilename\n",
    "%matplotlib qt\n",
    "\n",
    "plt.rcParams['text.usetex'] = False\n",
    "plt.rcParams['font.family'] = 'serif'\n",
    "plt.rcParams['font.serif'] = 'Times New Roman'\n",
    "plt.rcParams['font.size'] = 16\n",
    "\n",
    "cal_mat = cal_matrix()"
   ]
  },
  {
   "cell_type": "code",
   "execution_count": 104,
   "metadata": {},
   "outputs": [],
   "source": [
    "# Load the .mat file\n",
    "# Open a file dialog to choose a .mat file\n",
    "root = Tk()\n",
    "# root.withdraw()  # Hide the main window\n",
    "file_path = askopenfilename(initialdir='./results', filetypes=[(\"MAT files\", \"*.mat\")])\n",
    "root.destroy()  # Destroy the main window\n",
    "\n",
    "exp_data = io.loadmat(file_path)"
   ]
  },
  {
   "cell_type": "code",
   "execution_count": 105,
   "metadata": {},
   "outputs": [],
   "source": [
    "time = exp_data['t']\n",
    "fs_analog = exp_data['Fs_analog'].flatten()[0]\n",
    "\n",
    "diameter_in = exp_data['D_inch']\n",
    "pitch_in = exp_data['pitch']\n",
    "\n",
    "diameter_m = diameter_in * 0.0254\n",
    "pitch_m = pitch_in * 0.0254\n",
    "\n",
    "rho = exp_data['rho']\n",
    "\n",
    "voltage = exp_data['data']\n",
    "force_net = exp_data['force_net']\n",
    "force_raw = exp_data['force']\n",
    "t_analog = np.linspace(0, len(force_raw)/fs_analog, len(force_raw)).flatten()\n",
    "\n",
    "z_pulse = voltage[:, 6]\n",
    "z_pulse = np.where(z_pulse > 1, 5, z_pulse)\n",
    "\n",
    "rpm_sweep = exp_data['rpm_sweep'].flatten()\n",
    "U_inf = exp_data['U_inf'].flatten()\n",
    "rpm_command = exp_data['rpm_command'].flatten()"
   ]
  },
  {
   "cell_type": "code",
   "execution_count": 106,
   "metadata": {},
   "outputs": [],
   "source": [
    "mano_data = exp_data['data_mano']\n",
    "u = ((mano_data[:, 1] * 200 * 2 / (rho))**0.5).flatten()"
   ]
  },
  {
   "cell_type": "code",
   "execution_count": 107,
   "metadata": {},
   "outputs": [],
   "source": [
    "indices = np.where(np.diff(z_pulse) > 1)[0]\n",
    "rpm = 60/np.diff(t_analog.flatten()[indices])\n",
    "t_rpm = t_analog.flatten()[indices[:-1]]"
   ]
  },
  {
   "cell_type": "code",
   "execution_count": 108,
   "metadata": {},
   "outputs": [],
   "source": [
    "# Resample rpm to match fs_analog\n",
    "num_samples = int(len(t_analog))\n",
    "rpm_resampled = signal.resample(rpm, num_samples)\n",
    "rpm_command_resampled = signal.resample(rpm_command, num_samples)\n",
    "u_resampled = signal.resample(u, num_samples)"
   ]
  },
  {
   "cell_type": "code",
   "execution_count": 109,
   "metadata": {},
   "outputs": [],
   "source": [
    "fig, axes = plt.subplots(2, 3, figsize=(15, 10))\n",
    "\n",
    "axes[0, 0].plot(t_analog, voltage[:, 0], \"-\")\n",
    "axes[0, 0].set_xlabel(\"Time [s]\")\n",
    "axes[0, 0].set_ylabel(\"$F_x$ [N]\")\n",
    "axes[0, 0].grid()\n",
    "\n",
    "axes[0, 1].plot(t_analog, voltage[:, 1], \"-\")\n",
    "axes[0, 1].set_xlabel(\"Time [s]\")\n",
    "axes[0, 1].set_ylabel(\"$F_y$ [N]\")\n",
    "axes[0, 1].grid()\n",
    "\n",
    "axes[0, 2].plot(t_analog, voltage[:, 2], \"-\")\n",
    "axes[0, 2].set_xlabel(\"Time [s]\")\n",
    "axes[0, 2].set_ylabel(\"$F_z$ [N]\")\n",
    "axes[0, 2].grid()\n",
    "\n",
    "axes[1, 0].plot(t_analog, voltage[:, 3], \"-\")\n",
    "axes[1, 0].set_xlabel(\"Time [s]\")\n",
    "axes[1, 0].set_ylabel(\"$T_x$ [N]\")\n",
    "axes[1, 0].grid()\n",
    "\n",
    "axes[1, 1].plot(t_analog, voltage[:, 4], \"-\")\n",
    "axes[1, 1].set_xlabel(\"Time [s]\")\n",
    "axes[1, 1].set_ylabel(\"$T_y$ [N]\")\n",
    "axes[1, 1].grid()\n",
    "\n",
    "axes[1, 2].plot(t_analog, voltage[:, 5], \"-\")\n",
    "axes[1, 2].set_xlabel(\"Time [s]\")\n",
    "axes[1, 2].set_ylabel(\"$T_z$ [N]\")\n",
    "axes[1, 2].grid()\n",
    "\n",
    "plt.tight_layout()\n",
    "plt.show()"
   ]
  },
  {
   "cell_type": "code",
   "execution_count": 32,
   "metadata": {
    "vscode": {
     "languageId": "ruby"
    }
   },
   "outputs": [],
   "source": [
    "fig, axes = plt.subplots(2, 3, figsize=(15, 10))\n",
    "\n",
    "axes[0, 0].plot(t_analog, force_raw[:, 0], \"-\")\n",
    "axes[0, 0].set_xlabel(\"Time [s]\")\n",
    "axes[0, 0].set_ylabel(\"$F_x$ [N]\")\n",
    "axes[0, 0].grid()\n",
    "\n",
    "axes[0, 1].plot(t_analog, force_raw[:, 1], \"-\")\n",
    "axes[0, 1].set_xlabel(\"Time [s]\")\n",
    "axes[0, 1].set_ylabel(\"$F_y$ [N]\")\n",
    "axes[0, 1].grid()\n",
    "\n",
    "axes[0, 2].plot(t_analog, force_raw[:, 2], \"-\")\n",
    "axes[0, 2].set_xlabel(\"Time [s]\")\n",
    "axes[0, 2].set_ylabel(\"$F_z$ [N]\")\n",
    "axes[0, 2].grid()\n",
    "\n",
    "axes[1, 0].plot(t_analog, force_raw[:, 3], \"-\")\n",
    "axes[1, 0].set_xlabel(\"Time [s]\")\n",
    "axes[1, 0].set_ylabel(\"$T_x$ [N]\")\n",
    "axes[1, 0].grid()\n",
    "\n",
    "axes[1, 1].plot(t_analog, force_raw[:, 4], \"-\")\n",
    "axes[1, 1].set_xlabel(\"Time [s]\")\n",
    "axes[1, 1].set_ylabel(\"$T_y$ [N]\")\n",
    "axes[1, 1].grid()\n",
    "\n",
    "axes[1, 2].plot(t_analog, force_raw[:, 5], \"-\")\n",
    "axes[1, 2].set_xlabel(\"Time [s]\")\n",
    "axes[1, 2].set_ylabel(\"$T_z$ [N]\")\n",
    "axes[1, 2].grid()\n",
    "\n",
    "plt.tight_layout()\n",
    "plt.show()"
   ]
  },
  {
   "cell_type": "code",
   "execution_count": 123,
   "metadata": {},
   "outputs": [],
   "source": [
    "dt = 1/fs_analog\n",
    "order = 2\n",
    "cutoff = 5\n",
    "nyq = 0.5 * fs_analog\n",
    "normal_cutoff = cutoff / nyq\n",
    "\n",
    "b, a = signal.butter(order, normal_cutoff)\n",
    "z_l = z_d = signal.lfilter_zi(b, a)\n",
    "\n",
    "\n",
    "Fx = signal.lfilter(b, a, force_net[:, 0], zi=z_l)[0]\n",
    "Fy = signal.lfilter(b, a, force_net[:, 1], zi=z_l)[0]\n",
    "Fz = signal.lfilter(b, a, force_net[:, 2], zi=z_l)[0]\n",
    "Tx = signal.lfilter(b, a, force_net[:, 3], zi=z_l)[0]\n",
    "Ty = signal.lfilter(b, a, force_net[:, 4], zi=z_l)[0]\n",
    "Tz = signal.lfilter(b, a, force_net[:, 5], zi=z_l)[0]"
   ]
  },
  {
   "cell_type": "code",
   "execution_count": 77,
   "metadata": {},
   "outputs": [],
   "source": [
    "fig, axes = plt.subplots(2, 3, figsize=(15, 10))\n",
    "\n",
    "axes[0, 0].plot(t_analog, Fx, \"-\")\n",
    "axes[0, 0].set_xlabel(\"Time [s]\")\n",
    "axes[0, 0].set_ylabel(\"$F_x$ [N]\")\n",
    "axes[0, 0].grid()\n",
    "\n",
    "axes[0, 1].plot(t_analog, Fy, \"-\")\n",
    "axes[0, 1].set_xlabel(\"Time [s]\")\n",
    "axes[0, 1].set_ylabel(\"$F_y$ [N]\")\n",
    "axes[0, 1].grid()\n",
    "\n",
    "axes[0, 2].plot(t_analog, Fz, \"-\")\n",
    "axes[0, 2].set_xlabel(\"Time [s]\")\n",
    "axes[0, 2].set_ylabel(\"$F_z$ [N]\")\n",
    "axes[0, 2].grid()\n",
    "\n",
    "axes[1, 0].plot(t_analog, Tx, \"-\")\n",
    "axes[1, 0].set_xlabel(\"Time [s]\")\n",
    "axes[1, 0].set_ylabel(\"$T_x$ [N]\")\n",
    "axes[1, 0].grid()\n",
    "\n",
    "axes[1, 1].plot(t_analog, Ty, \"-\")\n",
    "axes[1, 1].set_xlabel(\"Time [s]\")\n",
    "axes[1, 1].set_ylabel(\"$T_y$ [N]\")\n",
    "axes[1, 1].grid()\n",
    "\n",
    "axes[1, 2].plot(t_analog, Tz, \"-\")\n",
    "axes[1, 2].set_xlabel(\"Time [s]\")\n",
    "axes[1, 2].set_ylabel(\"$T_z$ [N]\")\n",
    "axes[1, 2].grid()\n",
    "\n",
    "plt.tight_layout()\n",
    "plt.show()"
   ]
  },
  {
   "cell_type": "markdown",
   "metadata": {},
   "source": [
    "Windowing"
   ]
  },
  {
   "cell_type": "code",
   "execution_count": 124,
   "metadata": {},
   "outputs": [
    {
     "name": "stdout",
     "output_type": "stream",
     "text": [
      "[np.float64(4724.673973016577), np.float64(4049.5328815037856), np.float64(3544.0676480842612)]\n",
      "[np.float64(5.760270396957876), np.float64(3.8057280148751915), np.float64(2.5740455214067404)]\n",
      "[np.float64(-0.029273568496524908), np.float64(-0.021818579775436053), np.float64(-0.017092909732506316)]\n",
      "[np.float64(6.028077530881365), np.float64(5.9880090444868515), np.float64(5.991130820629248)]\n"
     ]
    }
   ],
   "source": [
    "window_size = 40  # window size in seconds\n",
    "samples_per_window = int(window_size * fs_analog)  # number of samples per window\n",
    "\n",
    "# Partition data and t_analog into 40-second windows\n",
    "t_analog_windows = [t_analog[i:i + samples_per_window] for i in range(0, len(t_analog), samples_per_window) if i + samples_per_window <= len(t_analog)]\n",
    "Fz_windows = [Fz[i:i + samples_per_window] for i in range(0, len(Fz), samples_per_window) if i + samples_per_window <= len(Fz)]\n",
    "Tz_windows = [Tz[i:i + samples_per_window] for i in range(0, len(Tz), samples_per_window) if i + samples_per_window <= len(Tz)]\n",
    "rpm_windows = [rpm_resampled[i:i + samples_per_window] for i in range(0, len(rpm_resampled), samples_per_window) if i + samples_per_window <= len(rpm_resampled)]\n",
    "u_windows = [u_resampled[i:i + samples_per_window] for i in range(0, len(u_resampled), samples_per_window) if i + samples_per_window <= len(u_resampled)]\n",
    "\n",
    "\n",
    "# Calculate the mean of each window, leaving out the first 10 seconds\n",
    "mean_Fz_windows = [np.mean(window[int(10 * fs_analog):]) for window in Fz_windows]\n",
    "mean_Tz_windows = [np.mean(window[int(10 * fs_analog):]) for window in Tz_windows]\n",
    "mean_rpm_windows = [np.mean(window[int(10 * fs_analog):]) for window in rpm_windows] # Calculate the mean RPM of each window, leaving out the first 10 seconds\n",
    "mean_u_windows = [np.mean(window[int(10 * fs_analog):]) for window in u_windows]\n",
    "mean_n_windows = np.array(mean_rpm_windows) / 60\n",
    "\n",
    "# Print the mean values of each window\n",
    "print(mean_rpm_windows)\n",
    "print(mean_Fz_windows)\n",
    "print(mean_Tz_windows)\n",
    "print(mean_u_windows)"
   ]
  },
  {
   "cell_type": "code",
   "execution_count": 127,
   "metadata": {},
   "outputs": [],
   "source": [
    "J = mean_u_windows / (mean_n_windows * diameter_m)\n",
    "CT = mean_Fz_windows / (rho * mean_n_windows**2 * diameter_m**4)\n",
    "CQ = -np.array(mean_Tz_windows) / (rho * mean_n_windows**2 * diameter_m**5)\n",
    "CP = CQ * 2 * np.pi\n",
    "eta = J * CT / CP"
   ]
  },
  {
   "cell_type": "code",
   "execution_count": null,
   "metadata": {},
   "outputs": [
    {
     "name": "stderr",
     "output_type": "stream",
     "text": [
      "<>:28: SyntaxWarning: invalid escape sequence '\\e'\n",
      "<>:28: SyntaxWarning: invalid escape sequence '\\e'\n",
      "C:\\Users\\Lab7\\AppData\\Local\\Temp\\ipykernel_26044\\2076745251.py:28: SyntaxWarning: invalid escape sequence '\\e'\n",
      "  ax3.set_ylabel('$\\eta$')\n"
     ]
    }
   ],
   "source": [
    "# Create a figure and two subplots\n",
    "fig, (ax1, ax2, ax3) = plt.subplots(1, 3, figsize=(16, 5))\n",
    "\n",
    "# First subplot\n",
    "ax1.plot(J, CT, label='Laminar', color='black', marker='o', linewidth = 2.5)\n",
    "ax1.grid()\n",
    "ax1.set_xlabel('J')\n",
    "ax1.set_ylabel('$C_T$')\n",
    "ax1.set_xlim(0.2, 1.0)\n",
    "# ax1.set_ylim(0.02, 0.12)\n",
    "ax1.set_xticks(np.arange(0.2, 1.2, 0.2))\n",
    "# ax1.legend(loc = 'lower left')\n",
    "\n",
    "# Second subplot\n",
    "ax2.plot(J, CP, label='Laminar', color='black', marker='o', linewidth = 2.5)\n",
    "ax2.set_xlim(0.2, 1.0)\n",
    "# ax2.set_ylim(0.05, 0.1)\n",
    "ax2.set_xlabel('J')\n",
    "ax2.set_ylabel('$C_P$')\n",
    "ax2.set_xticks(np.arange(0.2, 1.2, 0.2))\n",
    "ax2.grid()\n",
    "\n",
    "# Third subplot\n",
    "ax3.plot(J, eta, label='Laminar', color='black', marker='o', linewidth = 2.5)\n",
    "ax3.set_xlim(0.2, 1.0)\n",
    "# ax3.set_ylim(0.4, 0.9)\n",
    "ax3.set_xlabel('J')\n",
    "ax3.set_ylabel('$\\eta$')\n",
    "ax3.set_xticks(np.arange(0.2, 1.2, 0.2))\n",
    "ax3.grid()\n",
    "\n",
    "# Show the plot\n",
    "plt.tight_layout()\n",
    "plt.show()"
   ]
  },
  {
   "cell_type": "code",
   "execution_count": 129,
   "metadata": {},
   "outputs": [
    {
     "name": "stderr",
     "output_type": "stream",
     "text": [
      "C:\\Users\\Lab7\\AppData\\Local\\Temp\\ipykernel_26044\\1651000883.py:32: UserWarning: Creating legend with loc=\"best\" can be slow with large amounts of data.\n",
      "  plt.tight_layout()\n"
     ]
    },
    {
     "name": "stderr",
     "output_type": "stream",
     "text": [
      "m:\\Efe\\TurboProp\\venv\\Lib\\site-packages\\ipykernel\\eventloops.py:145: UserWarning: Creating legend with loc=\"best\" can be slow with large amounts of data.\n",
      "  el.exec() if hasattr(el, \"exec\") else el.exec_()\n"
     ]
    }
   ],
   "source": [
    "fig, (ax1, ax2) = plt.subplots(1, 2, figsize=(12, 5))\n",
    "\n",
    "# First subplot\n",
    "ax1.plot(t_analog, Fz, \"-\", label='Thrust', linewidth = 2, color='k')\n",
    "ax1.set_ylim(-20, 20)\n",
    "\n",
    "for i, window in enumerate(Fz_windows):\n",
    "    start_time = t_analog_windows[i][int(10 * fs_analog)]\n",
    "    end_time = t_analog_windows[i][-1]\n",
    "    ax1.axvspan(start_time, end_time, color='gray', alpha=0.3)\n",
    "    ax2.axvspan(start_time, end_time, color='gray', alpha=0.3)\n",
    "\n",
    "ax1_twiny = ax1.twinx()\n",
    "ax1_twiny.plot(t_rpm, rpm, \"-\", label='RPM', linewidth=2, color='blue')\n",
    "ax1_twiny.set_ylabel(\"RPM\")\n",
    "\n",
    "lines, labels = ax1.get_legend_handles_labels()\n",
    "lines2, labels2 = ax1_twiny.get_legend_handles_labels()\n",
    "ax1_twiny.legend(lines + lines2, labels + labels2, loc='upper left')\n",
    "\n",
    "ax1.set_xlabel(\"Time [s]\")\n",
    "ax1.set_ylabel(\"T [N]\")\n",
    "ax1.grid()\n",
    "\n",
    "# Second subplot\n",
    "ax2.plot(t_analog, Tx, \"-\", label='Torque', linewidth = 2, color='red')\n",
    "ax2.set_xlabel(\"Time [s]\")\n",
    "ax2.set_ylabel(\"Q [N.m]\")\n",
    "ax2.legend()\n",
    "ax2.grid()\n",
    "\n",
    "plt.tight_layout()\n",
    "plt.show()"
   ]
  }
 ],
 "metadata": {
  "kernelspec": {
   "display_name": "venv",
   "language": "python",
   "name": "python3"
  },
  "language_info": {
   "codemirror_mode": {
    "name": "ipython",
    "version": 3
   },
   "file_extension": ".py",
   "mimetype": "text/x-python",
   "name": "python",
   "nbconvert_exporter": "python",
   "pygments_lexer": "ipython3",
   "version": "3.12.9"
  }
 },
 "nbformat": 4,
 "nbformat_minor": 2
}
