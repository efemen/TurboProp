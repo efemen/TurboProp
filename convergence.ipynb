{
 "cells": [
  {
   "cell_type": "code",
   "execution_count": 37,
   "metadata": {},
   "outputs": [],
   "source": [
    "import numpy as np\n",
    "from scipy import signal, io\n",
    "import matplotlib.pyplot as plt\n",
    "from acquisition_tools import cal_matrix, estimate_rpm\n",
    "from tkinter import Tk\n",
    "from tkinter.filedialog import askopenfilename\n",
    "%matplotlib qt\n",
    "\n",
    "plt.rcParams['text.usetex'] = False\n",
    "plt.rcParams['font.family'] = 'serif'\n",
    "plt.rcParams['font.serif'] = 'Times New Roman'\n",
    "plt.rcParams['font.size'] = 16\n",
    "\n",
    "cal_mat = cal_matrix()"
   ]
  },
  {
   "cell_type": "code",
   "execution_count": 38,
   "metadata": {},
   "outputs": [],
   "source": [
    "# Load the .mat file\n",
    "# Open a file dialog to choose a .mat file\n",
    "root = Tk()\n",
    "# root.withdraw()  # Hide the main window\n",
    "file_path = askopenfilename(initialdir='./results', filetypes=[(\"MAT files\", \"*.mat\")])\n",
    "root.destroy()  # Destroy the main window\n",
    "\n",
    "exp_data = io.loadmat(file_path)"
   ]
  },
  {
   "cell_type": "code",
   "execution_count": 39,
   "metadata": {},
   "outputs": [],
   "source": [
    "diameter_in = exp_data['D_inch']\n",
    "pitch_in = exp_data['pitch']\n",
    "\n",
    "diameter_m = diameter_in * 0.0254\n",
    "pitch_m = pitch_in * 0.0254\n",
    "\n",
    "rho = exp_data['rho']\n",
    "\n",
    "time = exp_data['t']\n",
    "fs_analog = exp_data['Fs_analog'].flatten()[0]\n",
    "\n",
    "\n",
    "voltage = exp_data['data']\n",
    "force_net = exp_data['force_net']\n",
    "force_raw = exp_data['force']\n",
    "\n",
    "voltage = voltage[:int(fs_analog * np.max(time)), :]\n",
    "force_net = force_net[:int(fs_analog * np.max(time)), :]\n",
    "force_raw = force_raw[:int(fs_analog * np.max(time)), :]\n",
    "\n",
    "t_analog = np.linspace(0, len(force_raw)/fs_analog, len(force_raw)).flatten()\n",
    "\n",
    "z_pulse = voltage[:len(t_analog), 6]\n",
    "z_pulse = np.where(z_pulse > 1, 5, z_pulse)\n",
    "\n",
    "\n",
    "rpm_sweep = exp_data['rpm_sweep']\n",
    "U_inf = exp_data['U_inf']"
   ]
  },
  {
   "cell_type": "code",
   "execution_count": 40,
   "metadata": {},
   "outputs": [],
   "source": [
    "indices = np.where(np.diff(z_pulse) > 1)[0]\n",
    "rpm = 60/np.diff(t_analog.flatten()[indices])\n",
    "t_rpm = t_analog.flatten()[indices[:-1]]"
   ]
  },
  {
   "cell_type": "code",
   "execution_count": 41,
   "metadata": {},
   "outputs": [
    {
     "ename": "ValueError",
     "evalue": "invalid number of data points (0) specified",
     "output_type": "error",
     "traceback": [
      "\u001b[31m---------------------------------------------------------------------------\u001b[39m",
      "\u001b[31mValueError\u001b[39m                                Traceback (most recent call last)",
      "\u001b[36mCell\u001b[39m\u001b[36m \u001b[39m\u001b[32mIn[41]\u001b[39m\u001b[32m, line 3\u001b[39m\n\u001b[32m      1\u001b[39m \u001b[38;5;66;03m# Resample rpm to match fs_analog\u001b[39;00m\n\u001b[32m      2\u001b[39m num_samples = \u001b[38;5;28mint\u001b[39m(\u001b[38;5;28mlen\u001b[39m(t_analog))\n\u001b[32m----> \u001b[39m\u001b[32m3\u001b[39m rpm_resampled = \u001b[43msignal\u001b[49m\u001b[43m.\u001b[49m\u001b[43mresample\u001b[49m\u001b[43m(\u001b[49m\u001b[43mrpm\u001b[49m\u001b[43m,\u001b[49m\u001b[43m \u001b[49m\u001b[43mnum_samples\u001b[49m\u001b[43m)\u001b[49m\n",
      "\u001b[36mFile \u001b[39m\u001b[32mm:\\Efe\\TurboProp\\venv\\Lib\\site-packages\\scipy\\signal\\_signaltools.py:3458\u001b[39m, in \u001b[36mresample\u001b[39m\u001b[34m(x, num, t, axis, window, domain)\u001b[39m\n\u001b[32m   3455\u001b[39m \u001b[38;5;28;01mif\u001b[39;00m domain == \u001b[33m'\u001b[39m\u001b[33mtime\u001b[39m\u001b[33m'\u001b[39m:\n\u001b[32m   3456\u001b[39m     \u001b[38;5;66;03m# Forward transform\u001b[39;00m\n\u001b[32m   3457\u001b[39m     \u001b[38;5;28;01mif\u001b[39;00m real_input:\n\u001b[32m-> \u001b[39m\u001b[32m3458\u001b[39m         X = \u001b[43msp_fft\u001b[49m\u001b[43m.\u001b[49m\u001b[43mrfft\u001b[49m\u001b[43m(\u001b[49m\u001b[43mx\u001b[49m\u001b[43m,\u001b[49m\u001b[43m \u001b[49m\u001b[43maxis\u001b[49m\u001b[43m=\u001b[49m\u001b[43maxis\u001b[49m\u001b[43m)\u001b[49m\n\u001b[32m   3459\u001b[39m     \u001b[38;5;28;01melse\u001b[39;00m:  \u001b[38;5;66;03m# Full complex FFT\u001b[39;00m\n\u001b[32m   3460\u001b[39m         X = sp_fft.fft(x, axis=axis)\n",
      "\u001b[36mFile \u001b[39m\u001b[32mm:\\Efe\\TurboProp\\venv\\Lib\\site-packages\\scipy\\fft\\_backend.py:28\u001b[39m, in \u001b[36m_ScipyBackend.__ua_function__\u001b[39m\u001b[34m(method, args, kwargs)\u001b[39m\n\u001b[32m     26\u001b[39m \u001b[38;5;28;01mif\u001b[39;00m fn \u001b[38;5;129;01mis\u001b[39;00m \u001b[38;5;28;01mNone\u001b[39;00m:\n\u001b[32m     27\u001b[39m     \u001b[38;5;28;01mreturn\u001b[39;00m \u001b[38;5;28mNotImplemented\u001b[39m\n\u001b[32m---> \u001b[39m\u001b[32m28\u001b[39m \u001b[38;5;28;01mreturn\u001b[39;00m \u001b[43mfn\u001b[49m\u001b[43m(\u001b[49m\u001b[43m*\u001b[49m\u001b[43margs\u001b[49m\u001b[43m,\u001b[49m\u001b[43m \u001b[49m\u001b[43m*\u001b[49m\u001b[43m*\u001b[49m\u001b[43mkwargs\u001b[49m\u001b[43m)\u001b[49m\n",
      "\u001b[36mFile \u001b[39m\u001b[32mm:\\Efe\\TurboProp\\venv\\Lib\\site-packages\\scipy\\fft\\_basic_backend.py:91\u001b[39m, in \u001b[36mrfft\u001b[39m\u001b[34m(x, n, axis, norm, overwrite_x, workers, plan)\u001b[39m\n\u001b[32m     89\u001b[39m \u001b[38;5;28;01mdef\u001b[39;00m\u001b[38;5;250m \u001b[39m\u001b[34mrfft\u001b[39m(x, n=\u001b[38;5;28;01mNone\u001b[39;00m, axis=-\u001b[32m1\u001b[39m, norm=\u001b[38;5;28;01mNone\u001b[39;00m,\n\u001b[32m     90\u001b[39m          overwrite_x=\u001b[38;5;28;01mFalse\u001b[39;00m, workers=\u001b[38;5;28;01mNone\u001b[39;00m, *, plan=\u001b[38;5;28;01mNone\u001b[39;00m):\n\u001b[32m---> \u001b[39m\u001b[32m91\u001b[39m     \u001b[38;5;28;01mreturn\u001b[39;00m \u001b[43m_execute_1D\u001b[49m\u001b[43m(\u001b[49m\u001b[33;43m'\u001b[39;49m\u001b[33;43mrfft\u001b[39;49m\u001b[33;43m'\u001b[39;49m\u001b[43m,\u001b[49m\u001b[43m \u001b[49m\u001b[43m_pocketfft\u001b[49m\u001b[43m.\u001b[49m\u001b[43mrfft\u001b[49m\u001b[43m,\u001b[49m\u001b[43m \u001b[49m\u001b[43mx\u001b[49m\u001b[43m,\u001b[49m\u001b[43m \u001b[49m\u001b[43mn\u001b[49m\u001b[43m=\u001b[49m\u001b[43mn\u001b[49m\u001b[43m,\u001b[49m\u001b[43m \u001b[49m\u001b[43maxis\u001b[49m\u001b[43m=\u001b[49m\u001b[43maxis\u001b[49m\u001b[43m,\u001b[49m\u001b[43m \u001b[49m\u001b[43mnorm\u001b[49m\u001b[43m=\u001b[49m\u001b[43mnorm\u001b[49m\u001b[43m,\u001b[49m\n\u001b[32m     92\u001b[39m \u001b[43m                       \u001b[49m\u001b[43moverwrite_x\u001b[49m\u001b[43m=\u001b[49m\u001b[43moverwrite_x\u001b[49m\u001b[43m,\u001b[49m\u001b[43m \u001b[49m\u001b[43mworkers\u001b[49m\u001b[43m=\u001b[49m\u001b[43mworkers\u001b[49m\u001b[43m,\u001b[49m\u001b[43m \u001b[49m\u001b[43mplan\u001b[49m\u001b[43m=\u001b[49m\u001b[43mplan\u001b[49m\u001b[43m)\u001b[49m\n",
      "\u001b[36mFile \u001b[39m\u001b[32mm:\\Efe\\TurboProp\\venv\\Lib\\site-packages\\scipy\\fft\\_basic_backend.py:32\u001b[39m, in \u001b[36m_execute_1D\u001b[39m\u001b[34m(func_str, pocketfft_func, x, n, axis, norm, overwrite_x, workers, plan)\u001b[39m\n\u001b[32m     30\u001b[39m \u001b[38;5;28;01mif\u001b[39;00m is_numpy(xp):\n\u001b[32m     31\u001b[39m     x = np.asarray(x)\n\u001b[32m---> \u001b[39m\u001b[32m32\u001b[39m     \u001b[38;5;28;01mreturn\u001b[39;00m \u001b[43mpocketfft_func\u001b[49m\u001b[43m(\u001b[49m\u001b[43mx\u001b[49m\u001b[43m,\u001b[49m\u001b[43m \u001b[49m\u001b[43mn\u001b[49m\u001b[43m=\u001b[49m\u001b[43mn\u001b[49m\u001b[43m,\u001b[49m\u001b[43m \u001b[49m\u001b[43maxis\u001b[49m\u001b[43m=\u001b[49m\u001b[43maxis\u001b[49m\u001b[43m,\u001b[49m\u001b[43m \u001b[49m\u001b[43mnorm\u001b[49m\u001b[43m=\u001b[49m\u001b[43mnorm\u001b[49m\u001b[43m,\u001b[49m\n\u001b[32m     33\u001b[39m \u001b[43m                          \u001b[49m\u001b[43moverwrite_x\u001b[49m\u001b[43m=\u001b[49m\u001b[43moverwrite_x\u001b[49m\u001b[43m,\u001b[49m\u001b[43m \u001b[49m\u001b[43mworkers\u001b[49m\u001b[43m=\u001b[49m\u001b[43mworkers\u001b[49m\u001b[43m,\u001b[49m\u001b[43m \u001b[49m\u001b[43mplan\u001b[49m\u001b[43m=\u001b[49m\u001b[43mplan\u001b[49m\u001b[43m)\u001b[49m\n\u001b[32m     35\u001b[39m norm = _validate_fft_args(workers, plan, norm)\n\u001b[32m     36\u001b[39m \u001b[38;5;28;01mif\u001b[39;00m \u001b[38;5;28mhasattr\u001b[39m(xp, \u001b[33m'\u001b[39m\u001b[33mfft\u001b[39m\u001b[33m'\u001b[39m):\n",
      "\u001b[36mFile \u001b[39m\u001b[32mm:\\Efe\\TurboProp\\venv\\Lib\\site-packages\\scipy\\fft\\_pocketfft\\basic.py:58\u001b[39m, in \u001b[36mr2c\u001b[39m\u001b[34m(forward, x, n, axis, norm, overwrite_x, workers, plan)\u001b[39m\n\u001b[32m     56\u001b[39m     tmp, _ = _fix_shape_1d(tmp, n, axis)\n\u001b[32m     57\u001b[39m \u001b[38;5;28;01melif\u001b[39;00m tmp.shape[axis] < \u001b[32m1\u001b[39m:\n\u001b[32m---> \u001b[39m\u001b[32m58\u001b[39m     \u001b[38;5;28;01mraise\u001b[39;00m \u001b[38;5;167;01mValueError\u001b[39;00m(\u001b[33mf\u001b[39m\u001b[33m\"\u001b[39m\u001b[33minvalid number of data points (\u001b[39m\u001b[38;5;132;01m{\u001b[39;00mtmp.shape[axis]\u001b[38;5;132;01m}\u001b[39;00m\u001b[33m) specified\u001b[39m\u001b[33m\"\u001b[39m)\n\u001b[32m     60\u001b[39m \u001b[38;5;66;03m# Note: overwrite_x is not utilised\u001b[39;00m\n\u001b[32m     61\u001b[39m \u001b[38;5;28;01mreturn\u001b[39;00m pfft.r2c(tmp, (axis,), forward, norm, \u001b[38;5;28;01mNone\u001b[39;00m, workers)\n",
      "\u001b[31mValueError\u001b[39m: invalid number of data points (0) specified"
     ]
    }
   ],
   "source": [
    "# Resample rpm to match fs_analog\n",
    "num_samples = int(len(t_analog))\n",
    "rpm_resampled = signal.resample(rpm, num_samples)"
   ]
  },
  {
   "cell_type": "code",
   "execution_count": 42,
   "metadata": {},
   "outputs": [],
   "source": [
    "dt = 1/fs_analog\n",
    "order = 2\n",
    "cutoff = 10\n",
    "nyq = 0.5 * fs_analog\n",
    "normal_cutoff = cutoff / nyq\n",
    "\n",
    "b, a = signal.butter(order, normal_cutoff)\n",
    "z_l = z_d = signal.lfilter_zi(b, a)\n",
    "\n",
    "Fx = signal.lfilter(b, a, force_net[:, 0], zi=z_l)[0]\n",
    "Fy = signal.lfilter(b, a, force_net[:, 1], zi=z_l)[0]\n",
    "Fz = signal.lfilter(b, a, force_net[:, 2], zi=z_l)[0]\n",
    "Tx = signal.lfilter(b, a, force_net[:, 3], zi=z_l)[0]\n",
    "Ty = signal.lfilter(b, a, force_net[:, 4], zi=z_l)[0]\n",
    "Tz = signal.lfilter(b, a, force_net[:, 5], zi=z_l)[0]\n",
    "rpm_filt = signal.lfilter(b, a, rpm_resampled, zi=z_l)[0]"
   ]
  },
  {
   "cell_type": "code",
   "execution_count": 43,
   "metadata": {},
   "outputs": [
    {
     "ename": "ValueError",
     "evalue": "operands could not be broadcast together with shapes (8000234,) (1,2399000) ",
     "output_type": "error",
     "traceback": [
      "\u001b[31m---------------------------------------------------------------------------\u001b[39m",
      "\u001b[31mValueError\u001b[39m                                Traceback (most recent call last)",
      "\u001b[36mCell\u001b[39m\u001b[36m \u001b[39m\u001b[32mIn[43]\u001b[39m\u001b[32m, line 5\u001b[39m\n\u001b[32m      1\u001b[39m n_filt = rpm_filt / \u001b[32m60\u001b[39m\n\u001b[32m      4\u001b[39m J = U_inf / (n_filt * diameter_m)\n\u001b[32m----> \u001b[39m\u001b[32m5\u001b[39m CT = (\u001b[43mFz\u001b[49m\u001b[43m \u001b[49m\u001b[43m/\u001b[49m\u001b[43m \u001b[49m\u001b[43m(\u001b[49m\u001b[43mrho\u001b[49m\u001b[43m \u001b[49m\u001b[43m*\u001b[49m\u001b[43m \u001b[49m\u001b[43mn_filt\u001b[49m\u001b[43m*\u001b[49m\u001b[43m*\u001b[49m\u001b[32;43m2\u001b[39;49m\u001b[43m \u001b[49m\u001b[43m*\u001b[49m\u001b[43m \u001b[49m\u001b[43mdiameter_m\u001b[49m\u001b[43m*\u001b[49m\u001b[43m*\u001b[49m\u001b[32;43m4\u001b[39;49m\u001b[43m)\u001b[49m).T\n\u001b[32m      6\u001b[39m CQ = (Tz / (rho * n_filt**\u001b[32m2\u001b[39m * diameter_m**\u001b[32m5\u001b[39m)).T\n\u001b[32m      7\u001b[39m CP = CQ * \u001b[32m2\u001b[39m * np.pi\n",
      "\u001b[31mValueError\u001b[39m: operands could not be broadcast together with shapes (8000234,) (1,2399000) "
     ]
    }
   ],
   "source": [
    "n_filt = rpm_filt / 60\n",
    "\n",
    "\n",
    "J = U_inf / (n_filt * diameter_m)\n",
    "CT = (Fz / (rho * n_filt**2 * diameter_m**4)).T\n",
    "CQ = (Tz / (rho * n_filt**2 * diameter_m**5)).T\n",
    "CP = CQ * 2 * np.pi"
   ]
  },
  {
   "cell_type": "code",
   "execution_count": 44,
   "metadata": {},
   "outputs": [],
   "source": [
    "fig, axes = plt.subplots(2, 3, figsize=(15, 10))\n",
    "\n",
    "axes[0, 0].plot(t_analog, Fx, \"-\")\n",
    "axes[0, 0].set_xlabel(\"Time [s]\")\n",
    "axes[0, 0].set_ylabel(\"$F_x$ [N]\")\n",
    "axes[0, 0].grid()\n",
    "\n",
    "axes[0, 1].plot(t_analog, Fy, \"-\")\n",
    "axes[0, 1].set_xlabel(\"Time [s]\")\n",
    "axes[0, 1].set_ylabel(\"$F_y$ [N]\")\n",
    "axes[0, 1].grid()\n",
    "\n",
    "axes[0, 2].plot(t_analog, Fz, \"-\")\n",
    "axes[0, 2].set_xlabel(\"Time [s]\")\n",
    "axes[0, 2].set_ylabel(\"$F_z$ [N]\")\n",
    "axes[0, 2].grid()\n",
    "\n",
    "axes[1, 0].plot(t_analog, Tx, \"-\")\n",
    "axes[1, 0].set_xlabel(\"Time [s]\")\n",
    "axes[1, 0].set_ylabel(\"$T_x$ [N]\")\n",
    "axes[1, 0].grid()\n",
    "\n",
    "axes[1, 1].plot(t_analog, Tx, \"-\")\n",
    "axes[1, 1].set_xlabel(\"Time [s]\")\n",
    "axes[1, 1].set_ylabel(\"$T_y$ [N]\")\n",
    "axes[1, 1].grid()\n",
    "\n",
    "axes[1, 2].plot(t_analog, Tx, \"-\")\n",
    "axes[1, 2].set_xlabel(\"Time [s]\")\n",
    "axes[1, 2].set_ylabel(\"$T_z$ [N]\")\n",
    "axes[1, 2].grid()\n",
    "\n",
    "plt.tight_layout()\n",
    "plt.show()"
   ]
  },
  {
   "cell_type": "code",
   "execution_count": 45,
   "metadata": {},
   "outputs": [
    {
     "ename": "ValueError",
     "evalue": "x and y must have same first dimension, but have shapes (8000234,) and (2399000,)",
     "output_type": "error",
     "traceback": [
      "\u001b[31m---------------------------------------------------------------------------\u001b[39m",
      "\u001b[31mValueError\u001b[39m                                Traceback (most recent call last)",
      "\u001b[36mCell\u001b[39m\u001b[36m \u001b[39m\u001b[32mIn[45]\u001b[39m\u001b[32m, line 8\u001b[39m\n\u001b[32m      5\u001b[39m ax1.set_ylim(-\u001b[32m20\u001b[39m, \u001b[32m20\u001b[39m)\n\u001b[32m      7\u001b[39m ax1_twiny = ax1.twinx()\n\u001b[32m----> \u001b[39m\u001b[32m8\u001b[39m \u001b[43max1_twiny\u001b[49m\u001b[43m.\u001b[49m\u001b[43mplot\u001b[49m\u001b[43m(\u001b[49m\u001b[43mt_analog\u001b[49m\u001b[43m,\u001b[49m\u001b[43m \u001b[49m\u001b[43mrpm_filt\u001b[49m\u001b[43m,\u001b[49m\u001b[43m \u001b[49m\u001b[33;43m\"\u001b[39;49m\u001b[33;43m-\u001b[39;49m\u001b[33;43m\"\u001b[39;49m\u001b[43m,\u001b[49m\u001b[43m \u001b[49m\u001b[43mlabel\u001b[49m\u001b[43m=\u001b[49m\u001b[33;43m'\u001b[39;49m\u001b[33;43mRPM\u001b[39;49m\u001b[33;43m'\u001b[39;49m\u001b[43m,\u001b[49m\u001b[43m \u001b[49m\u001b[43mlinewidth\u001b[49m\u001b[43m=\u001b[49m\u001b[32;43m2\u001b[39;49m\u001b[43m,\u001b[49m\u001b[43m \u001b[49m\u001b[43mcolor\u001b[49m\u001b[43m=\u001b[49m\u001b[33;43m'\u001b[39;49m\u001b[33;43mblue\u001b[39;49m\u001b[33;43m'\u001b[39;49m\u001b[43m)\u001b[49m\n\u001b[32m      9\u001b[39m ax1_twiny.set_ylabel(\u001b[33m\"\u001b[39m\u001b[33mRPM\u001b[39m\u001b[33m\"\u001b[39m)\n\u001b[32m     10\u001b[39m ax1_twiny.set_ylim(\u001b[32m0\u001b[39m, \u001b[32m10000\u001b[39m)\n",
      "\u001b[36mFile \u001b[39m\u001b[32mm:\\Efe\\TurboProp\\venv\\Lib\\site-packages\\matplotlib\\axes\\_axes.py:1777\u001b[39m, in \u001b[36mAxes.plot\u001b[39m\u001b[34m(self, scalex, scaley, data, *args, **kwargs)\u001b[39m\n\u001b[32m   1534\u001b[39m \u001b[38;5;250m\u001b[39m\u001b[33;03m\"\"\"\u001b[39;00m\n\u001b[32m   1535\u001b[39m \u001b[33;03mPlot y versus x as lines and/or markers.\u001b[39;00m\n\u001b[32m   1536\u001b[39m \n\u001b[32m   (...)\u001b[39m\u001b[32m   1774\u001b[39m \u001b[33;03m(``'green'``) or hex strings (``'#008000'``).\u001b[39;00m\n\u001b[32m   1775\u001b[39m \u001b[33;03m\"\"\"\u001b[39;00m\n\u001b[32m   1776\u001b[39m kwargs = cbook.normalize_kwargs(kwargs, mlines.Line2D)\n\u001b[32m-> \u001b[39m\u001b[32m1777\u001b[39m lines = [*\u001b[38;5;28mself\u001b[39m._get_lines(\u001b[38;5;28mself\u001b[39m, *args, data=data, **kwargs)]\n\u001b[32m   1778\u001b[39m \u001b[38;5;28;01mfor\u001b[39;00m line \u001b[38;5;129;01min\u001b[39;00m lines:\n\u001b[32m   1779\u001b[39m     \u001b[38;5;28mself\u001b[39m.add_line(line)\n",
      "\u001b[36mFile \u001b[39m\u001b[32mm:\\Efe\\TurboProp\\venv\\Lib\\site-packages\\matplotlib\\axes\\_base.py:297\u001b[39m, in \u001b[36m_process_plot_var_args.__call__\u001b[39m\u001b[34m(self, axes, data, return_kwargs, *args, **kwargs)\u001b[39m\n\u001b[32m    295\u001b[39m     this += args[\u001b[32m0\u001b[39m],\n\u001b[32m    296\u001b[39m     args = args[\u001b[32m1\u001b[39m:]\n\u001b[32m--> \u001b[39m\u001b[32m297\u001b[39m \u001b[38;5;28;01myield from\u001b[39;00m \u001b[38;5;28;43mself\u001b[39;49m\u001b[43m.\u001b[49m\u001b[43m_plot_args\u001b[49m\u001b[43m(\u001b[49m\n\u001b[32m    298\u001b[39m \u001b[43m    \u001b[49m\u001b[43maxes\u001b[49m\u001b[43m,\u001b[49m\u001b[43m \u001b[49m\u001b[43mthis\u001b[49m\u001b[43m,\u001b[49m\u001b[43m \u001b[49m\u001b[43mkwargs\u001b[49m\u001b[43m,\u001b[49m\u001b[43m \u001b[49m\u001b[43mambiguous_fmt_datakey\u001b[49m\u001b[43m=\u001b[49m\u001b[43mambiguous_fmt_datakey\u001b[49m\u001b[43m,\u001b[49m\n\u001b[32m    299\u001b[39m \u001b[43m    \u001b[49m\u001b[43mreturn_kwargs\u001b[49m\u001b[43m=\u001b[49m\u001b[43mreturn_kwargs\u001b[49m\n\u001b[32m    300\u001b[39m \u001b[43m\u001b[49m\u001b[43m)\u001b[49m\n",
      "\u001b[36mFile \u001b[39m\u001b[32mm:\\Efe\\TurboProp\\venv\\Lib\\site-packages\\matplotlib\\axes\\_base.py:494\u001b[39m, in \u001b[36m_process_plot_var_args._plot_args\u001b[39m\u001b[34m(self, axes, tup, kwargs, return_kwargs, ambiguous_fmt_datakey)\u001b[39m\n\u001b[32m    491\u001b[39m     axes.yaxis.update_units(y)\n\u001b[32m    493\u001b[39m \u001b[38;5;28;01mif\u001b[39;00m x.shape[\u001b[32m0\u001b[39m] != y.shape[\u001b[32m0\u001b[39m]:\n\u001b[32m--> \u001b[39m\u001b[32m494\u001b[39m     \u001b[38;5;28;01mraise\u001b[39;00m \u001b[38;5;167;01mValueError\u001b[39;00m(\u001b[33mf\u001b[39m\u001b[33m\"\u001b[39m\u001b[33mx and y must have same first dimension, but \u001b[39m\u001b[33m\"\u001b[39m\n\u001b[32m    495\u001b[39m                      \u001b[33mf\u001b[39m\u001b[33m\"\u001b[39m\u001b[33mhave shapes \u001b[39m\u001b[38;5;132;01m{\u001b[39;00mx.shape\u001b[38;5;132;01m}\u001b[39;00m\u001b[33m and \u001b[39m\u001b[38;5;132;01m{\u001b[39;00my.shape\u001b[38;5;132;01m}\u001b[39;00m\u001b[33m\"\u001b[39m)\n\u001b[32m    496\u001b[39m \u001b[38;5;28;01mif\u001b[39;00m x.ndim > \u001b[32m2\u001b[39m \u001b[38;5;129;01mor\u001b[39;00m y.ndim > \u001b[32m2\u001b[39m:\n\u001b[32m    497\u001b[39m     \u001b[38;5;28;01mraise\u001b[39;00m \u001b[38;5;167;01mValueError\u001b[39;00m(\u001b[33mf\u001b[39m\u001b[33m\"\u001b[39m\u001b[33mx and y can be no greater than 2D, but have \u001b[39m\u001b[33m\"\u001b[39m\n\u001b[32m    498\u001b[39m                      \u001b[33mf\u001b[39m\u001b[33m\"\u001b[39m\u001b[33mshapes \u001b[39m\u001b[38;5;132;01m{\u001b[39;00mx.shape\u001b[38;5;132;01m}\u001b[39;00m\u001b[33m and \u001b[39m\u001b[38;5;132;01m{\u001b[39;00my.shape\u001b[38;5;132;01m}\u001b[39;00m\u001b[33m\"\u001b[39m)\n",
      "\u001b[31mValueError\u001b[39m: x and y must have same first dimension, but have shapes (8000234,) and (2399000,)"
     ]
    }
   ],
   "source": [
    "fig, (ax1, ax2) = plt.subplots(1, 2, figsize=(12, 5))\n",
    "\n",
    "# First subplot\n",
    "ax1.plot(t_analog, Fz, \"-\", label='Thrust', linewidth = 2, color='k')\n",
    "ax1.set_ylim(-20, 20)\n",
    "\n",
    "ax1_twiny = ax1.twinx()\n",
    "ax1_twiny.plot(t_analog, rpm_filt, \"-\", label='RPM', linewidth=2, color='blue')\n",
    "ax1_twiny.set_ylabel(\"RPM\")\n",
    "ax1_twiny.set_ylim(0, 10000)\n",
    "\n",
    "lines, labels = ax1.get_legend_handles_labels()\n",
    "lines2, labels2 = ax1_twiny.get_legend_handles_labels()\n",
    "ax1_twiny.legend(lines + lines2, labels + labels2, loc='upper left')\n",
    "\n",
    "ax1.set_xlabel(\"Time [s]\")\n",
    "ax1.set_ylabel(\"T [N]\")\n",
    "ax1.grid()\n",
    "\n",
    "# Second subplot\n",
    "ax2.plot(t_analog, Tx, \"-\", label='Torque', linewidth = 2, color='red')\n",
    "ax2.set_xlabel(\"Time [s]\")\n",
    "ax2.set_ylabel(\"Q [N.m]\")\n",
    "ax2.legend()\n",
    "ax2.grid()\n",
    "\n",
    "plt.tight_layout()\n",
    "plt.show()"
   ]
  },
  {
   "cell_type": "code",
   "execution_count": 46,
   "metadata": {},
   "outputs": [],
   "source": [
    "# Perform PSD on Fz\n",
    "f, Pxx_den = signal.welch(force_net[:, 2], fs_analog, nperseg=1024)\n",
    "\n",
    "# Plot the PSD\n",
    "plt.figure(figsize=(10, 6))\n",
    "plt.semilogy(f, Pxx_den)\n",
    "plt.xlabel('Frequency [Hz]')\n",
    "plt.ylabel('PSD [V**2/Hz]')\n",
    "plt.title('Power Spectral Density of Fz')\n",
    "plt.grid()\n",
    "plt.show()"
   ]
  },
  {
   "cell_type": "code",
   "execution_count": 47,
   "metadata": {},
   "outputs": [
    {
     "ename": "ValueError",
     "evalue": "x and y must have same first dimension, but have shapes (8000234,) and (2399000, 1)",
     "output_type": "error",
     "traceback": [
      "\u001b[31m---------------------------------------------------------------------------\u001b[39m",
      "\u001b[31mValueError\u001b[39m                                Traceback (most recent call last)",
      "\u001b[36mCell\u001b[39m\u001b[36m \u001b[39m\u001b[32mIn[47]\u001b[39m\u001b[32m, line 7\u001b[39m\n\u001b[32m      5\u001b[39m fig.suptitle(title, fontsize=\u001b[32m16\u001b[39m)\n\u001b[32m      6\u001b[39m \u001b[38;5;66;03m# First subplot\u001b[39;00m\n\u001b[32m----> \u001b[39m\u001b[32m7\u001b[39m \u001b[43max1\u001b[49m\u001b[43m.\u001b[49m\u001b[43mplot\u001b[49m\u001b[43m(\u001b[49m\u001b[43mt_analog\u001b[49m\u001b[43m,\u001b[49m\u001b[43m \u001b[49m\u001b[43mCT\u001b[49m\u001b[43m,\u001b[49m\u001b[43m \u001b[49m\u001b[33;43m\"\u001b[39;49m\u001b[33;43m-\u001b[39;49m\u001b[33;43m\"\u001b[39;49m\u001b[43m,\u001b[49m\u001b[43m \u001b[49m\u001b[43mlabel\u001b[49m\u001b[43m=\u001b[49m\u001b[33;43m'\u001b[39;49m\u001b[33;43m$C_T$\u001b[39;49m\u001b[33;43m'\u001b[39;49m\u001b[43m,\u001b[49m\u001b[43m \u001b[49m\u001b[43mlinewidth\u001b[49m\u001b[43m \u001b[49m\u001b[43m=\u001b[49m\u001b[43m \u001b[49m\u001b[32;43m2\u001b[39;49m\u001b[43m,\u001b[49m\u001b[43m \u001b[49m\u001b[43mcolor\u001b[49m\u001b[43m=\u001b[49m\u001b[33;43m'\u001b[39;49m\u001b[33;43mk\u001b[39;49m\u001b[33;43m'\u001b[39;49m\u001b[43m)\u001b[49m\n\u001b[32m      8\u001b[39m ax1.set_ylim(\u001b[32m0\u001b[39m, \u001b[32m0.5\u001b[39m)\n\u001b[32m     10\u001b[39m \u001b[38;5;66;03m# ax1_twiny = ax1.twinx()\u001b[39;00m\n\u001b[32m     11\u001b[39m \u001b[38;5;66;03m# ax1_twiny.plot(t_analog, rpm_filt, \"-\", label='RPM', linewidth=2, color='blue')\u001b[39;00m\n\u001b[32m     12\u001b[39m \u001b[38;5;66;03m# ax1_twiny.set_ylabel(\"RPM\")\u001b[39;00m\n\u001b[32m     13\u001b[39m \u001b[38;5;66;03m# ax1_twiny.set_ylim(0, 10000)\u001b[39;00m\n",
      "\u001b[36mFile \u001b[39m\u001b[32mm:\\Efe\\TurboProp\\venv\\Lib\\site-packages\\matplotlib\\axes\\_axes.py:1777\u001b[39m, in \u001b[36mAxes.plot\u001b[39m\u001b[34m(self, scalex, scaley, data, *args, **kwargs)\u001b[39m\n\u001b[32m   1534\u001b[39m \u001b[38;5;250m\u001b[39m\u001b[33;03m\"\"\"\u001b[39;00m\n\u001b[32m   1535\u001b[39m \u001b[33;03mPlot y versus x as lines and/or markers.\u001b[39;00m\n\u001b[32m   1536\u001b[39m \n\u001b[32m   (...)\u001b[39m\u001b[32m   1774\u001b[39m \u001b[33;03m(``'green'``) or hex strings (``'#008000'``).\u001b[39;00m\n\u001b[32m   1775\u001b[39m \u001b[33;03m\"\"\"\u001b[39;00m\n\u001b[32m   1776\u001b[39m kwargs = cbook.normalize_kwargs(kwargs, mlines.Line2D)\n\u001b[32m-> \u001b[39m\u001b[32m1777\u001b[39m lines = [*\u001b[38;5;28mself\u001b[39m._get_lines(\u001b[38;5;28mself\u001b[39m, *args, data=data, **kwargs)]\n\u001b[32m   1778\u001b[39m \u001b[38;5;28;01mfor\u001b[39;00m line \u001b[38;5;129;01min\u001b[39;00m lines:\n\u001b[32m   1779\u001b[39m     \u001b[38;5;28mself\u001b[39m.add_line(line)\n",
      "\u001b[36mFile \u001b[39m\u001b[32mm:\\Efe\\TurboProp\\venv\\Lib\\site-packages\\matplotlib\\axes\\_base.py:297\u001b[39m, in \u001b[36m_process_plot_var_args.__call__\u001b[39m\u001b[34m(self, axes, data, return_kwargs, *args, **kwargs)\u001b[39m\n\u001b[32m    295\u001b[39m     this += args[\u001b[32m0\u001b[39m],\n\u001b[32m    296\u001b[39m     args = args[\u001b[32m1\u001b[39m:]\n\u001b[32m--> \u001b[39m\u001b[32m297\u001b[39m \u001b[38;5;28;01myield from\u001b[39;00m \u001b[38;5;28;43mself\u001b[39;49m\u001b[43m.\u001b[49m\u001b[43m_plot_args\u001b[49m\u001b[43m(\u001b[49m\n\u001b[32m    298\u001b[39m \u001b[43m    \u001b[49m\u001b[43maxes\u001b[49m\u001b[43m,\u001b[49m\u001b[43m \u001b[49m\u001b[43mthis\u001b[49m\u001b[43m,\u001b[49m\u001b[43m \u001b[49m\u001b[43mkwargs\u001b[49m\u001b[43m,\u001b[49m\u001b[43m \u001b[49m\u001b[43mambiguous_fmt_datakey\u001b[49m\u001b[43m=\u001b[49m\u001b[43mambiguous_fmt_datakey\u001b[49m\u001b[43m,\u001b[49m\n\u001b[32m    299\u001b[39m \u001b[43m    \u001b[49m\u001b[43mreturn_kwargs\u001b[49m\u001b[43m=\u001b[49m\u001b[43mreturn_kwargs\u001b[49m\n\u001b[32m    300\u001b[39m \u001b[43m\u001b[49m\u001b[43m)\u001b[49m\n",
      "\u001b[36mFile \u001b[39m\u001b[32mm:\\Efe\\TurboProp\\venv\\Lib\\site-packages\\matplotlib\\axes\\_base.py:494\u001b[39m, in \u001b[36m_process_plot_var_args._plot_args\u001b[39m\u001b[34m(self, axes, tup, kwargs, return_kwargs, ambiguous_fmt_datakey)\u001b[39m\n\u001b[32m    491\u001b[39m     axes.yaxis.update_units(y)\n\u001b[32m    493\u001b[39m \u001b[38;5;28;01mif\u001b[39;00m x.shape[\u001b[32m0\u001b[39m] != y.shape[\u001b[32m0\u001b[39m]:\n\u001b[32m--> \u001b[39m\u001b[32m494\u001b[39m     \u001b[38;5;28;01mraise\u001b[39;00m \u001b[38;5;167;01mValueError\u001b[39;00m(\u001b[33mf\u001b[39m\u001b[33m\"\u001b[39m\u001b[33mx and y must have same first dimension, but \u001b[39m\u001b[33m\"\u001b[39m\n\u001b[32m    495\u001b[39m                      \u001b[33mf\u001b[39m\u001b[33m\"\u001b[39m\u001b[33mhave shapes \u001b[39m\u001b[38;5;132;01m{\u001b[39;00mx.shape\u001b[38;5;132;01m}\u001b[39;00m\u001b[33m and \u001b[39m\u001b[38;5;132;01m{\u001b[39;00my.shape\u001b[38;5;132;01m}\u001b[39;00m\u001b[33m\"\u001b[39m)\n\u001b[32m    496\u001b[39m \u001b[38;5;28;01mif\u001b[39;00m x.ndim > \u001b[32m2\u001b[39m \u001b[38;5;129;01mor\u001b[39;00m y.ndim > \u001b[32m2\u001b[39m:\n\u001b[32m    497\u001b[39m     \u001b[38;5;28;01mraise\u001b[39;00m \u001b[38;5;167;01mValueError\u001b[39;00m(\u001b[33mf\u001b[39m\u001b[33m\"\u001b[39m\u001b[33mx and y can be no greater than 2D, but have \u001b[39m\u001b[33m\"\u001b[39m\n\u001b[32m    498\u001b[39m                      \u001b[33mf\u001b[39m\u001b[33m\"\u001b[39m\u001b[33mshapes \u001b[39m\u001b[38;5;132;01m{\u001b[39;00mx.shape\u001b[38;5;132;01m}\u001b[39;00m\u001b[33m and \u001b[39m\u001b[38;5;132;01m{\u001b[39;00my.shape\u001b[38;5;132;01m}\u001b[39;00m\u001b[33m\"\u001b[39m)\n",
      "\u001b[31mValueError\u001b[39m: x and y must have same first dimension, but have shapes (8000234,) and (2399000, 1)"
     ]
    }
   ],
   "source": [
    "fig, (ax1, ax2) = plt.subplots(1, 2, figsize=(12, 5))\n",
    "\n",
    "title = f\"APC {diameter_in[0][0]}x{pitch_in[0][0]}\"\n",
    "\n",
    "fig.suptitle(title, fontsize=16)\n",
    "# First subplot\n",
    "ax1.plot(t_analog, CT, \"-\", label='$C_T$', linewidth = 2, color='k')\n",
    "ax1.set_ylim(0, 0.5)\n",
    "\n",
    "# ax1_twiny = ax1.twinx()\n",
    "# ax1_twiny.plot(t_analog, rpm_filt, \"-\", label='RPM', linewidth=2, color='blue')\n",
    "# ax1_twiny.set_ylabel(\"RPM\")\n",
    "# ax1_twiny.set_ylim(0, 10000)\n",
    "\n",
    "lines, labels = ax1.get_legend_handles_labels()\n",
    "lines2, labels2 = ax1_twiny.get_legend_handles_labels()\n",
    "ax1_twiny.legend(lines + lines2, labels + labels2, loc='upper left')\n",
    "\n",
    "ax1.set_xlabel(\"Time [s]\")\n",
    "ax1.set_ylabel(\"$C_T$\")\n",
    "ax1.grid()\n",
    "\n",
    "# Second subplot\n",
    "ax2.plot(t_analog, CP, \"-\", label='$C_P$', linewidth = 2, color='red')\n",
    "ax2.set_xlabel(\"Time [s]\")\n",
    "ax2.set_ylabel(\"$C_P$\")\n",
    "ax2.legend()\n",
    "ax2.grid()\n",
    "\n",
    "plt.tight_layout()\n",
    "plt.show()"
   ]
  },
  {
   "cell_type": "code",
   "execution_count": null,
   "metadata": {},
   "outputs": [
    {
     "name": "stderr",
     "output_type": "stream",
     "text": [
      "<>:21: SyntaxWarning: invalid escape sequence '\\m'\n",
      "<>:23: SyntaxWarning: invalid escape sequence '\\m'\n",
      "<>:28: SyntaxWarning: invalid escape sequence '\\s'\n",
      "<>:30: SyntaxWarning: invalid escape sequence '\\s'\n",
      "<>:21: SyntaxWarning: invalid escape sequence '\\m'\n",
      "<>:23: SyntaxWarning: invalid escape sequence '\\m'\n",
      "<>:28: SyntaxWarning: invalid escape sequence '\\s'\n",
      "<>:30: SyntaxWarning: invalid escape sequence '\\s'\n",
      "C:\\Users\\Lab7\\AppData\\Local\\Temp\\ipykernel_6080\\2279483581.py:21: SyntaxWarning: invalid escape sequence '\\m'\n",
      "  ax1.plot(t_analog[start_index:stop_index], mean_Fz, label='Normalized $\\mu$ T %', color = \"k\")\n",
      "C:\\Users\\Lab7\\AppData\\Local\\Temp\\ipykernel_6080\\2279483581.py:23: SyntaxWarning: invalid escape sequence '\\m'\n",
      "  ax1.set_ylabel('Normalized $\\mu$ T %')\n",
      "C:\\Users\\Lab7\\AppData\\Local\\Temp\\ipykernel_6080\\2279483581.py:28: SyntaxWarning: invalid escape sequence '\\s'\n",
      "  ax2.plot(t_analog[start_index:stop_index], std_Fz, label='Normalized $\\sigma$ T %', color = \"k\")\n",
      "C:\\Users\\Lab7\\AppData\\Local\\Temp\\ipykernel_6080\\2279483581.py:30: SyntaxWarning: invalid escape sequence '\\s'\n",
      "  ax2.set_ylabel('Normalized $\\sigma$ T %')\n"
     ]
    }
   ],
   "source": [
    "# Calculate the mean of Fz\n",
    "start_index = int(5 / dt)\n",
    "stop_index = int(350 / dt)\n",
    "\n",
    "thrust_raw = force_net[start_index:stop_index, 2]\n",
    "mean_Fz = np.cumsum(thrust_raw) / np.arange(1, len(thrust_raw) + 1)\n",
    "std_Fz = np.sqrt(np.cumsum((thrust_raw - mean_Fz)**2) / np.arange(1, len(thrust_raw) + 1))\n",
    "\n",
    "# Normalize the values with respect to the last calculated value of both mean and std\n",
    "# mean_Fz /= mean_Fz[-1]\n",
    "# std_Fz /= std_Fz[-1]\n",
    "\n",
    "# mean_Fz -= 1\n",
    "# std_Fz -= 1\n",
    "\n",
    "# mean_Fz *= 100\n",
    "# std_Fz *= 100\n",
    "\n",
    "fig, (ax1, ax2) = plt.subplots(2, 1, figsize=(10, 8))\n",
    "\n",
    "ax1.plot(t_analog[start_index:stop_index], mean_Fz, label='Normalized $\\mu$ T %', color = \"k\")\n",
    "ax1.set_xlabel('Time [s]')\n",
    "ax1.set_ylabel('Normalized $\\mu$ T %')\n",
    "# ax1.set_ylim(-10, 10)\n",
    "ax1.grid()\n",
    "ax1.legend()\n",
    "\n",
    "ax2.plot(t_analog[start_index:stop_index], std_Fz, label='Normalized $\\sigma$ T %', color = \"k\")\n",
    "ax2.set_xlabel('Time [s]')\n",
    "ax2.set_ylabel('Normalized $\\sigma$ T %')\n",
    "ax2.grid()\n",
    "# ax2.set_ylim(-10, 10)\n",
    "ax2.legend()\n",
    "\n",
    "plt.tight_layout()\n",
    "plt.show()"
   ]
  },
  {
   "cell_type": "code",
   "execution_count": 36,
   "metadata": {},
   "outputs": [
    {
     "name": "stderr",
     "output_type": "stream",
     "text": [
      "<>:21: SyntaxWarning: invalid escape sequence '\\m'\n",
      "<>:23: SyntaxWarning: invalid escape sequence '\\m'\n",
      "<>:28: SyntaxWarning: invalid escape sequence '\\s'\n",
      "<>:30: SyntaxWarning: invalid escape sequence '\\s'\n",
      "<>:21: SyntaxWarning: invalid escape sequence '\\m'\n",
      "<>:23: SyntaxWarning: invalid escape sequence '\\m'\n",
      "<>:28: SyntaxWarning: invalid escape sequence '\\s'\n",
      "<>:30: SyntaxWarning: invalid escape sequence '\\s'\n",
      "C:\\Users\\Lab7\\AppData\\Local\\Temp\\ipykernel_6080\\1996771505.py:21: SyntaxWarning: invalid escape sequence '\\m'\n",
      "  ax1.plot(t_analog[start_index:stop_index], mean_Tz, label='Normalized $\\mu$ Q %', color = \"k\")\n",
      "C:\\Users\\Lab7\\AppData\\Local\\Temp\\ipykernel_6080\\1996771505.py:23: SyntaxWarning: invalid escape sequence '\\m'\n",
      "  ax1.set_ylabel('Normalized $\\mu$ Q %')\n",
      "C:\\Users\\Lab7\\AppData\\Local\\Temp\\ipykernel_6080\\1996771505.py:28: SyntaxWarning: invalid escape sequence '\\s'\n",
      "  ax2.plot(t_analog[start_index:stop_index], std_Tz, label='Normalized $\\sigma$ Q %', color = \"k\")\n",
      "C:\\Users\\Lab7\\AppData\\Local\\Temp\\ipykernel_6080\\1996771505.py:30: SyntaxWarning: invalid escape sequence '\\s'\n",
      "  ax2.set_ylabel('Normalized $\\sigma$ Q %')\n"
     ]
    }
   ],
   "source": [
    "# Calculate the mean of Tz\n",
    "start_index = int(5 / dt)\n",
    "stop_index = int(100 / dt)\n",
    "\n",
    "torque_raw = force_net[start_index:stop_index, 5]\n",
    "mean_Tz = np.cumsum(torque_raw) / np.arange(1, len(torque_raw) + 1)\n",
    "std_Tz = np.sqrt(np.cumsum((torque_raw - mean_Tz)**2) / np.arange(1, len(torque_raw) + 1))\n",
    "\n",
    "# Normalize the values with respect to the last calculated value of both mean and std\n",
    "mean_Tz /= mean_Tz[-1]\n",
    "std_Tz /= std_Tz[-1]\n",
    "\n",
    "mean_Tz -= 1\n",
    "std_Tz -= 1\n",
    "\n",
    "mean_Tz *= 100\n",
    "std_Tz *= 100\n",
    "\n",
    "fig, (ax1, ax2) = plt.subplots(2, 1, figsize=(10, 8))\n",
    "\n",
    "ax1.plot(t_analog[start_index:stop_index], mean_Tz, label='Normalized $\\mu$ Q %', color = \"k\")\n",
    "ax1.set_xlabel('Time [s]')\n",
    "ax1.set_ylabel('Normalized $\\mu$ Q %')\n",
    "ax1.set_ylim(-10, 10)\n",
    "ax1.grid()\n",
    "ax1.legend()\n",
    "\n",
    "ax2.plot(t_analog[start_index:stop_index], std_Tz, label='Normalized $\\sigma$ Q %', color = \"k\")\n",
    "ax2.set_xlabel('Time [s]')\n",
    "ax2.set_ylabel('Normalized $\\sigma$ Q %')\n",
    "ax2.grid()\n",
    "ax2.set_ylim(-10, 10)\n",
    "ax2.legend()\n",
    "\n",
    "plt.tight_layout()\n",
    "plt.show()"
   ]
  }
 ],
 "metadata": {
  "kernelspec": {
   "display_name": "venv",
   "language": "python",
   "name": "python3"
  },
  "language_info": {
   "codemirror_mode": {
    "name": "ipython",
    "version": 3
   },
   "file_extension": ".py",
   "mimetype": "text/x-python",
   "name": "python",
   "nbconvert_exporter": "python",
   "pygments_lexer": "ipython3",
   "version": "3.12.9"
  }
 },
 "nbformat": 4,
 "nbformat_minor": 2
}
