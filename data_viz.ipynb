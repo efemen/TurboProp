{
 "cells": [
  {
   "cell_type": "code",
   "execution_count": 3,
   "metadata": {},
   "outputs": [],
   "source": [
    "import numpy as np\n",
    "from scipy import signal, io\n",
    "import matplotlib.pyplot as plt\n",
    "from acquisition_tools import cal_matrix, estimate_rpm\n",
    "from tkinter import Tk\n",
    "from tkinter.filedialog import askopenfilename\n",
    "%matplotlib qt\n",
    "\n",
    "plt.rcParams['text.usetex'] = False\n",
    "plt.rcParams['font.family'] = 'serif'\n",
    "plt.rcParams['font.serif'] = 'Times New Roman'\n",
    "plt.rcParams['font.size'] = 16\n",
    "\n",
    "cal_mat = cal_matrix()"
   ]
  },
  {
   "cell_type": "code",
   "execution_count": 4,
   "metadata": {},
   "outputs": [],
   "source": [
    "# Load the .mat file\n",
    "# Open a file dialog to choose a .mat file\n",
    "root = Tk()\n",
    "# root.withdraw()  # Hide the main window\n",
    "file_path = askopenfilename(initialdir='./results', filetypes=[(\"MAT files\", \"*.mat\")])\n",
    "root.destroy()  # Destroy the main window\n",
    "\n",
    "exp_data = io.loadmat(file_path)"
   ]
  },
  {
   "cell_type": "code",
   "execution_count": 32,
   "metadata": {},
   "outputs": [
    {
     "data": {
      "text/plain": [
       "<matplotlib.legend.Legend at 0x27356681010>"
      ]
     },
     "execution_count": 32,
     "metadata": {},
     "output_type": "execute_result"
    }
   ],
   "source": [
    "force = exp_data['force']\n",
    "voltage = exp_data['data']\n",
    "\n",
    "plt.plot(voltage[:, 0], label='Channel 0')\n",
    "plt.plot(voltage[:, 1], label='Channel 1')\n",
    "plt.plot(voltage[:, 2], label='Channel 2')\n",
    "plt.plot(voltage[:, 3], label='Channel 3')\n",
    "plt.legend()"
   ]
  },
  {
   "cell_type": "code",
   "execution_count": 5,
   "metadata": {},
   "outputs": [
    {
     "ename": "KeyError",
     "evalue": "'Fs_analog'",
     "output_type": "error",
     "traceback": [
      "\u001b[31m---------------------------------------------------------------------------\u001b[39m",
      "\u001b[31mKeyError\u001b[39m                                  Traceback (most recent call last)",
      "\u001b[36mCell\u001b[39m\u001b[36m \u001b[39m\u001b[32mIn[5]\u001b[39m\u001b[32m, line 2\u001b[39m\n\u001b[32m      1\u001b[39m time = exp_data[\u001b[33m'\u001b[39m\u001b[33mt\u001b[39m\u001b[33m'\u001b[39m]\n\u001b[32m----> \u001b[39m\u001b[32m2\u001b[39m fs_analog = \u001b[43mexp_data\u001b[49m\u001b[43m[\u001b[49m\u001b[33;43m'\u001b[39;49m\u001b[33;43mFs_analog\u001b[39;49m\u001b[33;43m'\u001b[39;49m\u001b[43m]\u001b[49m\n\u001b[32m      4\u001b[39m voltage = exp_data[\u001b[33m'\u001b[39m\u001b[33mdata\u001b[39m\u001b[33m'\u001b[39m]\n\u001b[32m      5\u001b[39m force_net = exp_data[\u001b[33m'\u001b[39m\u001b[33mforce_net\u001b[39m\u001b[33m'\u001b[39m]\n",
      "\u001b[31mKeyError\u001b[39m: 'Fs_analog'"
     ]
    }
   ],
   "source": [
    "time = exp_data['t']\n",
    "fs_analog = exp_data['Fs_analog']\n",
    "\n",
    "voltage = exp_data['data']\n",
    "force_net = exp_data['force_net']\n",
    "force_raw = exp_data['force']\n",
    "t_analog = np.linspace(0, len(force_raw)/fs_analog, len(force_raw)).flatten()\n",
    "\n",
    "z_pulse = voltage[:, 6]\n",
    "z_pulse = np.where(z_pulse > 1, 5, z_pulse)\n",
    "\n",
    "rpm_sweep = exp_data['rpm_sweep']\n",
    "U_inf = exp_data['U_inf']"
   ]
  },
  {
   "cell_type": "code",
   "execution_count": 131,
   "metadata": {},
   "outputs": [],
   "source": [
    "indices = np.where(np.diff(z_pulse) > 1)[0]\n",
    "rpm = 60/np.diff(t_analog.flatten()[indices])\n",
    "t_rpm = t_analog.flatten()[indices[:-1]]"
   ]
  },
  {
   "cell_type": "code",
   "execution_count": 132,
   "metadata": {},
   "outputs": [],
   "source": [
    "fig, axes = plt.subplots(2, 3, figsize=(15, 10))\n",
    "\n",
    "axes[0, 0].plot(t_analog, voltage[:, 0], \"-\")\n",
    "axes[0, 0].set_xlabel(\"Time [s]\")\n",
    "axes[0, 0].set_ylabel(\"$F_x$ [N]\")\n",
    "axes[0, 0].grid()\n",
    "\n",
    "axes[0, 1].plot(t_analog, voltage[:, 1], \"-\")\n",
    "axes[0, 1].set_xlabel(\"Time [s]\")\n",
    "axes[0, 1].set_ylabel(\"$F_y$ [N]\")\n",
    "axes[0, 1].grid()\n",
    "\n",
    "axes[0, 2].plot(t_analog, voltage[:, 2], \"-\")\n",
    "axes[0, 2].set_xlabel(\"Time [s]\")\n",
    "axes[0, 2].set_ylabel(\"$F_z$ [N]\")\n",
    "axes[0, 2].grid()\n",
    "\n",
    "axes[1, 0].plot(t_analog, voltage[:, 3], \"-\")\n",
    "axes[1, 0].set_xlabel(\"Time [s]\")\n",
    "axes[1, 0].set_ylabel(\"$T_x$ [N]\")\n",
    "axes[1, 0].grid()\n",
    "\n",
    "axes[1, 1].plot(t_analog, voltage[:, 4], \"-\")\n",
    "axes[1, 1].set_xlabel(\"Time [s]\")\n",
    "axes[1, 1].set_ylabel(\"$T_y$ [N]\")\n",
    "axes[1, 1].grid()\n",
    "\n",
    "axes[1, 2].plot(t_analog, voltage[:, 5], \"-\")\n",
    "axes[1, 2].set_xlabel(\"Time [s]\")\n",
    "axes[1, 2].set_ylabel(\"$T_z$ [N]\")\n",
    "axes[1, 2].grid()\n",
    "\n",
    "plt.tight_layout()\n",
    "plt.show()"
   ]
  },
  {
   "cell_type": "code",
   "execution_count": 133,
   "metadata": {
    "vscode": {
     "languageId": "ruby"
    }
   },
   "outputs": [],
   "source": [
    "fig, axes = plt.subplots(2, 3, figsize=(15, 10))\n",
    "\n",
    "axes[0, 0].plot(t_analog, force_raw[:, 0], \"-\")\n",
    "axes[0, 0].set_xlabel(\"Time [s]\")\n",
    "axes[0, 0].set_ylabel(\"$F_x$ [N]\")\n",
    "axes[0, 0].grid()\n",
    "\n",
    "axes[0, 1].plot(t_analog, force_raw[:, 1], \"-\")\n",
    "axes[0, 1].set_xlabel(\"Time [s]\")\n",
    "axes[0, 1].set_ylabel(\"$F_y$ [N]\")\n",
    "axes[0, 1].grid()\n",
    "\n",
    "axes[0, 2].plot(t_analog, force_raw[:, 2], \"-\")\n",
    "axes[0, 2].set_xlabel(\"Time [s]\")\n",
    "axes[0, 2].set_ylabel(\"$F_z$ [N]\")\n",
    "axes[0, 2].grid()\n",
    "\n",
    "axes[1, 0].plot(t_analog, force_raw[:, 3], \"-\")\n",
    "axes[1, 0].set_xlabel(\"Time [s]\")\n",
    "axes[1, 0].set_ylabel(\"$T_x$ [N]\")\n",
    "axes[1, 0].grid()\n",
    "\n",
    "axes[1, 1].plot(t_analog, force_raw[:, 4], \"-\")\n",
    "axes[1, 1].set_xlabel(\"Time [s]\")\n",
    "axes[1, 1].set_ylabel(\"$T_y$ [N]\")\n",
    "axes[1, 1].grid()\n",
    "\n",
    "axes[1, 2].plot(t_analog, force_raw[:, 5], \"-\")\n",
    "axes[1, 2].set_xlabel(\"Time [s]\")\n",
    "axes[1, 2].set_ylabel(\"$T_z$ [N]\")\n",
    "axes[1, 2].grid()\n",
    "\n",
    "plt.tight_layout()\n",
    "plt.show()"
   ]
  },
  {
   "cell_type": "code",
   "execution_count": 134,
   "metadata": {},
   "outputs": [],
   "source": [
    "dt = 1/fs_analog\n",
    "order = 2\n",
    "cutoff = 5\n",
    "nyq = 0.5 * fs_analog\n",
    "normal_cutoff = cutoff / nyq\n",
    "\n",
    "b, a = signal.butter(order, normal_cutoff)\n",
    "z_l = z_d = signal.lfilter_zi(b, a)\n",
    "\n",
    "Fx = signal.lfilter(b, a, force_raw[:, 0], zi=z_l)[0]\n",
    "Fy = signal.lfilter(b, a, force_raw[:, 1], zi=z_l)[0]\n",
    "Fz = signal.lfilter(b, a, force_raw[:, 2], zi=z_l)[0]\n",
    "Tx = signal.lfilter(b, a, force_raw[:, 3], zi=z_l)[0]\n",
    "Ty = signal.lfilter(b, a, force_raw[:, 4], zi=z_l)[0]\n",
    "Tz = signal.lfilter(b, a, force_raw[:, 5], zi=z_l)[0]"
   ]
  },
  {
   "cell_type": "code",
   "execution_count": 139,
   "metadata": {},
   "outputs": [],
   "source": [
    "fig, axes = plt.subplots(2, 3, figsize=(15, 10))\n",
    "\n",
    "axes[0, 0].plot(t_analog, Fx, \"-\")\n",
    "axes[0, 0].set_xlabel(\"Time [s]\")\n",
    "axes[0, 0].set_ylabel(\"$F_x$ [N]\")\n",
    "axes[0, 0].grid()\n",
    "\n",
    "axes[0, 1].plot(t_analog, Fy, \"-\")\n",
    "axes[0, 1].set_xlabel(\"Time [s]\")\n",
    "axes[0, 1].set_ylabel(\"$F_y$ [N]\")\n",
    "axes[0, 1].grid()\n",
    "\n",
    "axes[0, 2].plot(t_analog, Fz, \"-\")\n",
    "axes[0, 2].set_xlabel(\"Time [s]\")\n",
    "axes[0, 2].set_ylabel(\"$F_z$ [N]\")\n",
    "axes[0, 2].grid()\n",
    "\n",
    "axes[1, 0].plot(t_analog, Tx, \"-\")\n",
    "axes[1, 0].set_xlabel(\"Time [s]\")\n",
    "axes[1, 0].set_ylabel(\"$T_x$ [N]\")\n",
    "axes[1, 0].grid()\n",
    "\n",
    "axes[1, 1].plot(t_analog, Tx, \"-\")\n",
    "axes[1, 1].set_xlabel(\"Time [s]\")\n",
    "axes[1, 1].set_ylabel(\"$T_y$ [N]\")\n",
    "axes[1, 1].grid()\n",
    "\n",
    "axes[1, 2].plot(t_analog, Tx, \"-\")\n",
    "axes[1, 2].set_xlabel(\"Time [s]\")\n",
    "axes[1, 2].set_ylabel(\"$T_z$ [N]\")\n",
    "axes[1, 2].grid()\n",
    "\n",
    "plt.tight_layout()\n",
    "plt.show()"
   ]
  },
  {
   "cell_type": "code",
   "execution_count": 140,
   "metadata": {},
   "outputs": [],
   "source": [
    "fig, (ax1, ax2) = plt.subplots(1, 2, figsize=(12, 5))\n",
    "\n",
    "# First subplot\n",
    "ax1.plot(t_analog, Fz, \"-\", label='Thrust', linewidth = 2, color='k')\n",
    "ax1.set_ylim(-20, 20)\n",
    "\n",
    "ax1_twiny = ax1.twinx()\n",
    "ax1_twiny.plot(t_rpm, rpm, \"-\", label='RPM', linewidth=2, color='blue')\n",
    "ax1_twiny.set_ylabel(\"RPM\")\n",
    "\n",
    "lines, labels = ax1.get_legend_handles_labels()\n",
    "lines2, labels2 = ax1_twiny.get_legend_handles_labels()\n",
    "ax1_twiny.legend(lines + lines2, labels + labels2, loc='upper left')\n",
    "\n",
    "ax1.set_xlabel(\"Time [s]\")\n",
    "ax1.set_ylabel(\"T [N]\")\n",
    "ax1.grid()\n",
    "\n",
    "# Second subplot\n",
    "ax2.plot(t_analog, Tx, \"-\", label='Torque', linewidth = 2, color='red')\n",
    "ax2.set_xlabel(\"Time [s]\")\n",
    "ax2.set_ylabel(\"Q [N.m]\")\n",
    "ax2.legend()\n",
    "ax2.grid()\n",
    "\n",
    "plt.tight_layout()\n",
    "plt.show()"
   ]
  },
  {
   "cell_type": "code",
   "execution_count": null,
   "metadata": {},
   "outputs": [],
   "source": []
  }
 ],
 "metadata": {
  "kernelspec": {
   "display_name": "venv",
   "language": "python",
   "name": "python3"
  },
  "language_info": {
   "codemirror_mode": {
    "name": "ipython",
    "version": 3
   },
   "file_extension": ".py",
   "mimetype": "text/x-python",
   "name": "python",
   "nbconvert_exporter": "python",
   "pygments_lexer": "ipython3",
   "version": "3.12.9"
  }
 },
 "nbformat": 4,
 "nbformat_minor": 2
}
